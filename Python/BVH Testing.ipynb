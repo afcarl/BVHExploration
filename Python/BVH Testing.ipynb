{
 "cells": [
  {
   "cell_type": "markdown",
   "metadata": {},
   "source": [
    "- https://github.com/matt-graham/bvh-tools/tree/master/bvh\n",
    "- https://github.com/20tab/bvh-python/pull/2/files\n",
    "- https://github.com/20tab/bvh-python\n",
    "- https://gist.github.com/johnfredcee/2007503\n",
    "- https://github.com/ezgitek/bvh-parser/blob/master/bvhparser.py\n",
    "\n",
    "Papers\n",
    "\n",
    "- http://theorangeduck.com/media/uploads/other_stuff/phasefunction.pdf\n",
    "- https://arxiv.org/abs/1605.06921\n",
    "\n",
    "[BVH preview in browser](http://game.akjava.com/creator/)\n",
    "\n",
    "initial observations:\n",
    "- bvh loader doesn't work, but bvh is fairly simple to parse manually\n",
    "- some channels are actually constant? maybe the end sites?\n",
    "- the rotations need to be unwrapped in order to be processed.\n",
    "- how do we deal with people who have different body measurements? only use rotation?\n",
    "- how do we deal with drift in rotation if we are modeling the relative values instead of absolute?\n",
    "\n",
    "maybe try using sketch rnn?\n",
    "- https://github.com/tensorflow/magenta/tree/master/magenta/models/sketch_rnn\n",
    "- https://github.com/tensorflow/magenta-demos/blob/master/jupyter-notebooks/Sketch_RNN.ipynb"
   ]
  },
  {
   "cell_type": "code",
   "execution_count": null,
   "metadata": {},
   "outputs": [],
   "source": [
    "import matplotlib.pyplot as plt\n",
    "import numpy as np"
   ]
  },
  {
   "cell_type": "code",
   "execution_count": null,
   "metadata": {},
   "outputs": [],
   "source": [
    "# load from BVH\n",
    "parsed = []\n",
    "names = []\n",
    "# with open('Take54.bvh') as f:\n",
    "with open('data/MotionData-180216/erisa003.bvh') as f:\n",
    "    for line in f:\n",
    "        line = line.strip()\n",
    "        if line.startswith('ROOT') or line.startswith('JOINT'):\n",
    "            for channel in 'Xposition Yposition Zposition Zrotation Xrotation Yrotation'.split(' '):\n",
    "                names.append(line + ' ' + channel)\n",
    "        if line == 'MOTION':\n",
    "            break\n",
    "    frames = int(next(f).split(':')[1])\n",
    "    frame_time = float(next(f).split(':')[1])\n",
    "    print(frames, frame_time)\n",
    "    for line in f:\n",
    "        parsed.append(np.array(line.strip().split(' '), dtype=float))\n",
    "parsed = np.asarray(parsed)\n",
    "parsed.shape"
   ]
  },
  {
   "cell_type": "code",
   "execution_count": null,
   "metadata": {},
   "outputs": [],
   "source": [
    "len(names)"
   ]
  },
  {
   "cell_type": "code",
   "execution_count": null,
   "metadata": {},
   "outputs": [],
   "source": [
    "parsed = np.loadtxt('data/Positions/erisa003-absolute-export.tsv', delimiter='\\t')\n",
    "# parsed = np.loadtxt('data/Positions/erisa003-relative-export.tsv', delimiter='\\t')\n",
    "# parsed = np.loadtxt('data/Positions/Take54-absolute-export.tsv', delimiter='\\t')\n",
    "parsed.shape"
   ]
  },
  {
   "cell_type": "code",
   "execution_count": null,
   "metadata": {},
   "outputs": [],
   "source": [
    "def normalize(y):\n",
    "    y -= y.min(axis=0)\n",
    "    y /= y.max(axis=0)\n",
    "    return y"
   ]
  },
  {
   "cell_type": "code",
   "execution_count": null,
   "metadata": {
    "scrolled": false
   },
   "outputs": [],
   "source": [
    "from MulticoreTSNE import MulticoreTSNE as TSNE\n",
    "tsne = TSNE(n_jobs=10)\n",
    "%time y_tsne = tsne.fit_transform(parsed[::15]) # every 125ms, 8fps\n",
    "\n",
    "y_tsne = normalize(y_tsne)"
   ]
  },
  {
   "cell_type": "code",
   "execution_count": null,
   "metadata": {},
   "outputs": [],
   "source": [
    "import umap\n",
    "%time y_umap = umap.UMAP().fit_transform(parsed[::15])\n",
    "y_umap = normalize(y_umap)"
   ]
  },
  {
   "cell_type": "code",
   "execution_count": null,
   "metadata": {},
   "outputs": [],
   "source": [
    "np.savetxt('y_tsne.tsv', y_tsne, fmt='%.6f', delimiter='\\t')\n",
    "np.savetxt('y_umap.tsv', y_umap, fmt='%.6f',delimiter='\\t')"
   ]
  },
  {
   "cell_type": "code",
   "execution_count": null,
   "metadata": {},
   "outputs": [],
   "source": [
    "def scatter_plot(y):\n",
    "    plt.figure(figsize=(10,10))\n",
    "    plt.scatter(y[:,0], y[:,1], s=2, c=range(len(y)), cmap='rainbow')\n",
    "    plt.show()\n",
    "\n",
    "scatter_plot(y_umap)\n",
    "scatter_plot(y_tsne)"
   ]
  },
  {
   "cell_type": "code",
   "execution_count": null,
   "metadata": {},
   "outputs": [],
   "source": [
    "subset = parsed[::15]\n",
    "subset.shape"
   ]
  },
  {
   "cell_type": "code",
   "execution_count": null,
   "metadata": {},
   "outputs": [],
   "source": [
    "plt.plot(sorted(np.std(subset, axis=0)))\n",
    "plt.yscale('log')\n",
    "plt.show()"
   ]
  },
  {
   "cell_type": "code",
   "execution_count": null,
   "metadata": {},
   "outputs": [],
   "source": [
    "to_delete = np.where(np.std(subset, axis=0) < 10e-1)\n",
    "to_delete"
   ]
  },
  {
   "cell_type": "code",
   "execution_count": null,
   "metadata": {},
   "outputs": [],
   "source": [
    "subset = np.delete(subset, to_delete, axis=1)"
   ]
  },
  {
   "cell_type": "code",
   "execution_count": null,
   "metadata": {},
   "outputs": [],
   "source": [
    "subset -= subset.mean(axis=0) # center\n",
    "# subset /= subset.std(axis=0) # scale (don't do this for positions, more motion is more significant)\n",
    "subset /= subset.std() # scale everything down a bit"
   ]
  },
  {
   "cell_type": "code",
   "execution_count": null,
   "metadata": {},
   "outputs": [],
   "source": [
    "plt.plot(subset[:,6])"
   ]
  },
  {
   "cell_type": "code",
   "execution_count": null,
   "metadata": {},
   "outputs": [],
   "source": [
    "%time y_umap_subset = normalize(umap.UMAP().fit_transform(subset))\n",
    "np.savetxt('pos_rel_umap_subset.tsv', y_umap_subset, fmt='%.6f', delimiter='\\t')\n",
    "scatter_plot(y_umap_subset)"
   ]
  },
  {
   "cell_type": "code",
   "execution_count": null,
   "metadata": {},
   "outputs": [],
   "source": [
    "# subset.shape\n",
    "subset_d = np.diff(subset, axis=0)\n",
    "subset_d -= subset_d.mean(axis=0)\n",
    "subset_d /= subset_d.std()"
   ]
  },
  {
   "cell_type": "code",
   "execution_count": null,
   "metadata": {},
   "outputs": [],
   "source": [
    "%time y_umap_subset_d = normalize(umap.UMAP().fit_transform(subset_d))\n",
    "np.savetxt('pos_rel_d_umap_subset.tsv', y_umap_subset_d, fmt='%.6f', delimiter='\\t')\n",
    "scatter_plot(y_umap_subset_d)"
   ]
  },
  {
   "cell_type": "code",
   "execution_count": null,
   "metadata": {},
   "outputs": [],
   "source": [
    "tsne = TSNE(n_jobs=10)\n",
    "%time y_tsne_subset_d = normalize(tsne.fit_transform(subset_d)) # every 125ms, 8fps\n",
    "np.savetxt('y_tsne_subset_d.tsv', y_tsne_subset_d, fmt='%.6f', delimiter='\\t')\n",
    "scatter_plot(y_tsne_subset_d)"
   ]
  },
  {
   "cell_type": "code",
   "execution_count": null,
   "metadata": {},
   "outputs": [],
   "source": [
    "parsed[:,:9].std(axis=0), parsed[:,:9].mean(axis=0)"
   ]
  },
  {
   "cell_type": "code",
   "execution_count": null,
   "metadata": {},
   "outputs": [],
   "source": [
    "%time y_umap_subset_d = normalize(umap.UMAP().fit_transform(subset_d))\n",
    "np.savetxt('y_umap_subset_d.tsv', y_umap_subset_d, fmt='%.6f', delimiter='\\t')\n",
    "scatter_plot(y_umap_subset_d)"
   ]
  },
  {
   "cell_type": "code",
   "execution_count": null,
   "metadata": {},
   "outputs": [],
   "source": [
    "plt.figure(figsize=(20,10))\n",
    "total = 0\n",
    "for i in range(parsed.shape[1]):\n",
    "    x = parsed[:,i]\n",
    "    if np.std(x) < 0.1:# or np.min(x) < -150 or np.max(x) > 150:\n",
    "        plt.plot(parsed[:,i], label=i)\n",
    "    else:\n",
    "        total += 1\n",
    "#         continue\n",
    "# plt.legend()\n",
    "print(total)\n",
    "plt.show()"
   ]
  },
  {
   "cell_type": "code",
   "execution_count": null,
   "metadata": {
    "scrolled": false
   },
   "outputs": [],
   "source": [
    "for i in range(parsed.shape[1]):\n",
    "    x = parsed[:,i]\n",
    "    if np.std(x) < 0.1:# or np.min(x) < -150 or np.max(x) > 150:\n",
    "        continue\n",
    "    plt.figure(figsize=(10,1), facecolor='white')\n",
    "    plt.plot(x)#, label=i)\n",
    "    plt.title(names[i])\n",
    "    plt.show()"
   ]
  },
  {
   "cell_type": "code",
   "execution_count": null,
   "metadata": {
    "scrolled": false
   },
   "outputs": [],
   "source": [
    "for i in range(parsed.shape[1]):\n",
    "    x = parsed[:,i]\n",
    "    if np.std(x) < 0.1:# or np.min(x) < -150 or np.max(x) > 150:\n",
    "        continue\n",
    "    plt.figure(figsize=(2,2), facecolor='white')\n",
    "    plt.hist(x, bins=8)#, label=i)\n",
    "#     plt.title(names[i])\n",
    "    plt.show()"
   ]
  },
  {
   "cell_type": "code",
   "execution_count": null,
   "metadata": {},
   "outputs": [],
   "source": [
    "###### plt.figure(figsize=(20,10))\n",
    "for i in range(parsed.shape[1]):\n",
    "    x = parsed[:,i]\n",
    "#     if np.std(x) < 0.1 or \n",
    "    if np.min(x) < -150 or np.max(x) > 150:\n",
    "        unwrapped = np.unwrap(x * (np.pi / 180)) * (180 / np.pi)\n",
    "#         continue\n",
    "#         plt.plot(x, label=i)\n",
    "        plt.plot(unwrapped, label=i)\n",
    "#         break\n",
    "plt.show()"
   ]
  },
  {
   "cell_type": "code",
   "execution_count": null,
   "metadata": {},
   "outputs": [],
   "source": [
    "from bvh import Bvh"
   ]
  },
  {
   "cell_type": "code",
   "execution_count": null,
   "metadata": {},
   "outputs": [],
   "source": [
    "with open('Take54.bvh') as f:\n",
    "    mocap = Bvh(f.read())"
   ]
  },
  {
   "cell_type": "code",
   "execution_count": null,
   "metadata": {},
   "outputs": [],
   "source": [
    "help(mocap)"
   ]
  },
  {
   "cell_type": "code",
   "execution_count": null,
   "metadata": {},
   "outputs": [],
   "source": [
    "[str(item) for item in mocap.root]"
   ]
  },
  {
   "cell_type": "code",
   "execution_count": null,
   "metadata": {},
   "outputs": [],
   "source": [
    "# root offset\n",
    "next(mocap.root.filter('ROOT'))['OFFSET']"
   ]
  },
  {
   "cell_type": "code",
   "execution_count": null,
   "metadata": {},
   "outputs": [],
   "source": [
    "mocap.get_joints_names()"
   ]
  },
  {
   "cell_type": "code",
   "execution_count": null,
   "metadata": {},
   "outputs": [],
   "source": [
    "# joint offset\n",
    "mocap.joint_offset('Hips')"
   ]
  },
  {
   "cell_type": "code",
   "execution_count": null,
   "metadata": {},
   "outputs": [],
   "source": [
    "mocap.joint_channels('Hips')"
   ]
  },
  {
   "cell_type": "code",
   "execution_count": null,
   "metadata": {},
   "outputs": [],
   "source": [
    "mocap.frame_joint_channel(0, 'Hips', 'Xposition')"
   ]
  },
  {
   "cell_type": "code",
   "execution_count": null,
   "metadata": {},
   "outputs": [],
   "source": [
    "data = {}\n",
    "for joint in mocap.get_joints_names():\n",
    "    print(joint)\n",
    "    for channel in mocap.joint_channels(joint):\n",
    "        name = '{}/{}'.format(joint, channel)\n",
    "        data[name] = [mocap.frame_joint_channel(frame, joint, channel) for frame in range(mocap.nframes)]"
   ]
  },
  {
   "cell_type": "code",
   "execution_count": null,
   "metadata": {
    "scrolled": false
   },
   "outputs": [],
   "source": [
    "plt.figure(figsize=(20,10))\n",
    "for key in data:\n",
    "    if 'rotation' in key:\n",
    "        continue\n",
    "    print(key, np.std(data[key]), np.mean(data[key]))\n",
    "    plt.plot(data[key], label=key)\n",
    "plt.legend()\n",
    "plt.show()"
   ]
  },
  {
   "cell_type": "code",
   "execution_count": null,
   "metadata": {},
   "outputs": [],
   "source": []
  }
 ],
 "metadata": {
  "kernelspec": {
   "display_name": "Python 3",
   "language": "python",
   "name": "python3"
  },
  "language_info": {
   "codemirror_mode": {
    "name": "ipython",
    "version": 3
   },
   "file_extension": ".py",
   "mimetype": "text/x-python",
   "name": "python",
   "nbconvert_exporter": "python",
   "pygments_lexer": "ipython3",
   "version": "3.6.2"
  }
 },
 "nbformat": 4,
 "nbformat_minor": 2
}
